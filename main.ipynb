{
 "cells": [
  {
   "cell_type": "markdown",
   "metadata": {},
   "source": [
    "### Classify based on basic image attributes\n",
    "\n",
    "1. By orientation if not a square\n",
    "2. Solely by image width or height\n",
    "    - width groups:\n",
    "        - w < 1000\n",
    "        - w > 1000 \n",
    "- By size"
   ]
  },
  {
   "cell_type": "code",
   "execution_count": 14,
   "metadata": {},
   "outputs": [],
   "source": [
    "from PIL import Image\n",
    "import shutil\n",
    "import os\n",
    "\n",
    "os.chdir(r'C:\\Users\\halloween\\Downloads\\explo')\n",
    "root = os.getcwd()\n",
    "\n",
    "landscape_path = os.path.join(root, \"landscape\")\n",
    "portrait_path = os.path.join(root, \"portrait\")\n",
    "square_path = os.path.join(root, \"square\")\n",
    "\n",
    "os.makedirs(landscape_path, exist_ok=True)\n",
    "os.makedirs(portrait_path, exist_ok=True)\n",
    "os.makedirs(square_path, exist_ok=True)\n",
    "\n",
    "for f in os.listdir():\n",
    "    try:\n",
    "        img = Image.open(f)\n",
    "        width, height = img.size\n",
    "        img.close()\n",
    "    except IOError:\n",
    "        continue\n",
    "\n",
    "    f = os.path.join(root, f)\n",
    "    if width - height > 10:\n",
    "        shutil.move(f, landscape_path)\n",
    "    elif height - width > 10:\n",
    "        shutil.move(f, portrait_path)\n",
    "    else:\n",
    "        shutil.move(f, square_path)\n",
    "        "
   ]
  },
  {
   "cell_type": "code",
   "execution_count": null,
   "metadata": {},
   "outputs": [],
   "source": []
  }
 ],
 "metadata": {
  "kernelspec": {
   "display_name": "Python 3.9.6 ('img-j2aOEFCB-py3.9')",
   "language": "python",
   "name": "python3"
  },
  "language_info": {
   "codemirror_mode": {
    "name": "ipython",
    "version": 3
   },
   "file_extension": ".py",
   "mimetype": "text/x-python",
   "name": "python",
   "nbconvert_exporter": "python",
   "pygments_lexer": "ipython3",
   "version": "3.9.6"
  },
  "orig_nbformat": 4,
  "vscode": {
   "interpreter": {
    "hash": "66b992e304252ec021cb49e4ba374021caf83b605532142bf3bb31d2dd475bfd"
   }
  }
 },
 "nbformat": 4,
 "nbformat_minor": 2
}
