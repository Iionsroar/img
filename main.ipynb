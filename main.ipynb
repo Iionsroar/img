{
 "cells": [
  {
   "cell_type": "code",
   "execution_count": 1,
   "metadata": {},
   "outputs": [],
   "source": [
    "import shutil, os\n",
    "\n",
    "# Set folder containing image files\n",
    "ROOT = r'C:\\Users\\halloween\\Downloads\\explo'\n",
    "os.chdir(ROOT)"
   ]
  },
  {
   "cell_type": "markdown",
   "metadata": {},
   "source": [
    "### Classify based on basic image attributes\n",
    "\n",
    "1. By orientation if not a square\n",
    "2. Solely by image width or height\n",
    "    - width groups:\n",
    "        - w < 1000\n",
    "        - w > 1000 \n",
    "- By size"
   ]
  },
  {
   "cell_type": "code",
   "execution_count": 1,
   "metadata": {},
   "outputs": [],
   "source": [
    "from PIL import Image\n",
    "\n",
    "landscape_path = os.path.join(ROOT, \"landscape\")\n",
    "portrait_path = os.path.join(ROOT, \"portrait\")\n",
    "square_path = os.path.join(ROOT, \"square\")\n",
    "\n",
    "os.makedirs(landscape_path, exist_ok=True)\n",
    "os.makedirs(portrait_path, exist_ok=True)\n",
    "os.makedirs(square_path, exist_ok=True)\n",
    "\n",
    "for f in os.listdir():\n",
    "    try:\n",
    "        img = Image.open(f)\n",
    "        width, height = img.size\n",
    "        img.close()\n",
    "    except IOError:\n",
    "        continue\n",
    "\n",
    "    f = os.path.join(ROOT, f)\n",
    "    if width - height > 10:\n",
    "        shutil.move(f, landscape_path)\n",
    "    elif height - width > 10:\n",
    "        shutil.move(f, portrait_path)\n",
    "    else:\n",
    "        shutil.move(f, square_path)\n",
    "        "
   ]
  },
  {
   "cell_type": "markdown",
   "metadata": {},
   "source": [
    "### Classify based on objects in the image\n",
    "\n",
    "1. Things\n",
    "2. Person\n",
    "3. People "
   ]
  },
  {
   "cell_type": "code",
   "execution_count": 3,
   "metadata": {},
   "outputs": [
    {
     "name": "stderr",
     "output_type": "stream",
     "text": [
      "Using cache found in C:\\Users\\halloween/.cache\\torch\\hub\\ultralytics_yolov5_master\n",
      "YOLOv5  2022-11-28 Python-3.9.6 torch-1.13.0+cu116 CUDA:0 (GeForce GTX 1650, 4096MiB)\n",
      "\n",
      "Fusing layers... \n",
      "YOLOv5s summary: 213 layers, 7225885 parameters, 0 gradients\n",
      "Adding AutoShape... \n"
     ]
    }
   ],
   "source": [
    "import torch, json\n",
    "\n",
    "# Model\n",
    "model = torch.hub.load('ultralytics/yolov5', 'yolov5s')  # or yolov5n - yolov5x6, custom\n",
    "\n",
    "# Folders\n",
    "people_path = os.path.join(ROOT, \"people\")\n",
    "person_path = os.path.join(ROOT, \"person\")\n",
    "things_path = os.path.join(ROOT, \"things\")\n",
    "\n",
    "os.makedirs(people_path, exist_ok=True)\n",
    "os.makedirs(person_path, exist_ok=True)\n",
    "os.makedirs(things_path, exist_ok=True)\n",
    "\n",
    "# Tweak according to needs\n",
    "def detect(filename: str) -> set:\n",
    "    \"\"\"Returns: filename - detection1, detection2, etc.\"\"\"\n",
    "\n",
    "    # Exclude generated files\n",
    "    if \"tmp\" in filename and \"dzx\" in filename:\n",
    "        return\n",
    "    elif \"yolo\" in filename and \".pt\" in filename:\n",
    "        return\n",
    "\n",
    "    # Inference\n",
    "    try:\n",
    "        results = model(filename)\n",
    "    except Exception as e:\n",
    "        return f\"{filename} - {e.__class__}: {e}\"\n",
    "    \n",
    "    # Results\n",
    "    res_json = results.pandas().xyxy[0].to_json(orient=\"records\")\n",
    "    predictions = json.loads(res_json)\n",
    "    prediction_names = [pred['name'] for pred in predictions]\n",
    "    if prediction_names.count('person') > 3:\n",
    "        prediction_names.append('people')\n",
    "    prediction_names = set(prediction_names)\n",
    "    \n",
    "    return prediction_names\n",
    "\n",
    "# Organize files\n",
    "for f in os.listdir():\n",
    "    predictions = detect(f)\n",
    "    if predictions:\n",
    "        f = os.path.join(ROOT, f)\n",
    "        if \"people\" in predictions:\n",
    "            shutil.move(f, people_path)\n",
    "        elif \"person\" in predictions:\n",
    "            shutil.move(f, person_path)\n",
    "        else:\n",
    "            shutil.move(f, things_path)"
   ]
  },
  {
   "cell_type": "code",
   "execution_count": null,
   "metadata": {},
   "outputs": [],
   "source": []
  }
 ],
 "metadata": {
  "kernelspec": {
   "display_name": "Python 3.9.6 ('img-j2aOEFCB-py3.9')",
   "language": "python",
   "name": "python3"
  },
  "language_info": {
   "codemirror_mode": {
    "name": "ipython",
    "version": 3
   },
   "file_extension": ".py",
   "mimetype": "text/x-python",
   "name": "python",
   "nbconvert_exporter": "python",
   "pygments_lexer": "ipython3",
   "version": "3.9.6"
  },
  "orig_nbformat": 4,
  "vscode": {
   "interpreter": {
    "hash": "66b992e304252ec021cb49e4ba374021caf83b605532142bf3bb31d2dd475bfd"
   }
  }
 },
 "nbformat": 4,
 "nbformat_minor": 2
}
