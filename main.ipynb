{
 "cells": [
  {
   "cell_type": "markdown",
   "metadata": {},
   "source": [
    "## EDA"
   ]
  },
  {
   "cell_type": "code",
   "execution_count": 1,
   "metadata": {},
   "outputs": [],
   "source": [
    "from pandas_profiling import ProfileReport\n",
    "from PIL import Image\n",
    "import pandas as pd\n",
    "import os\n",
    "\n",
    "os.chdir(r'C:\\Users\\halloween\\Downloads\\explo')"
   ]
  },
  {
   "cell_type": "code",
   "execution_count": 2,
   "metadata": {},
   "outputs": [],
   "source": [
    "files = []\n",
    "for f in os.listdir():\n",
    "    try:\n",
    "        img = Image.open(f)\n",
    "        width, height = img.size\n",
    "        files.append((f, width, height))\n",
    "    except:\n",
    "        print(f\"{f} - SKIPPED\")\n",
    "\n",
    "df = pd.DataFrame(files, columns=['Filename', 'Width', 'Height'])"
   ]
  },
  {
   "cell_type": "code",
   "execution_count": 56,
   "metadata": {},
   "outputs": [
    {
     "name": "stdout",
     "output_type": "stream",
     "text": [
      "378 + 62 + 59 = 499\n"
     ]
    }
   ],
   "source": [
    "# df.describe()\n",
    "# df.profile_report() using Pandas Profiling\n",
    "\n",
    "# df['Width'].value_counts().head(20)\n",
    "# df['Height'].value_counts().head(20)\n",
    "portrait = df[df.Height > df.Width].value_counts().count()\n",
    "landscape = df[df.Width > df.Height].value_counts().count()\n",
    "square = df[df.Width == df.Height].value_counts().count()\n",
    "print(f\"{portrait} + {landscape} + {square} = {portrait + landscape + square}\")"
   ]
  },
  {
   "cell_type": "markdown",
   "metadata": {},
   "source": [
    "### Classify based on basic image attributes\n",
    "\n",
    "1. By orientation if not a square\n",
    "2. Solely by image width or height\n",
    "    - width groups:\n",
    "        - w < 1000\n",
    "        - w > 1000 \n",
    "- By size"
   ]
  },
  {
   "cell_type": "code",
   "execution_count": null,
   "metadata": {},
   "outputs": [],
   "source": []
  }
 ],
 "metadata": {
  "kernelspec": {
   "display_name": "Python 3.9.6 ('img-j2aOEFCB-py3.9')",
   "language": "python",
   "name": "python3"
  },
  "language_info": {
   "codemirror_mode": {
    "name": "ipython",
    "version": 3
   },
   "file_extension": ".py",
   "mimetype": "text/x-python",
   "name": "python",
   "nbconvert_exporter": "python",
   "pygments_lexer": "ipython3",
   "version": "3.9.6"
  },
  "orig_nbformat": 4,
  "vscode": {
   "interpreter": {
    "hash": "66b992e304252ec021cb49e4ba374021caf83b605532142bf3bb31d2dd475bfd"
   }
  }
 },
 "nbformat": 4,
 "nbformat_minor": 2
}
